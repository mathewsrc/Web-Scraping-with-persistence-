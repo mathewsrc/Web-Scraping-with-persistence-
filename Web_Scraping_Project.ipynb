{
  "nbformat": 4,
  "nbformat_minor": 0,
  "metadata": {
    "colab": {
      "provenance": [],
      "authorship_tag": "ABX9TyP3FeCRCZ+NaU72kp+2Mzjs",
      "include_colab_link": true
    },
    "kernelspec": {
      "name": "python3",
      "display_name": "Python 3"
    },
    "language_info": {
      "name": "python"
    }
  },
  "cells": [
    {
      "cell_type": "markdown",
      "metadata": {
        "id": "view-in-github",
        "colab_type": "text"
      },
      "source": [
        "<a href=\"https://colab.research.google.com/github/punkmic/Web-Scraping-with-persistence-/blob/master/Web_Scraping_Project.ipynb\" target=\"_parent\"><img src=\"https://colab.research.google.com/assets/colab-badge.svg\" alt=\"Open In Colab\"/></a>"
      ]
    },
    {
      "cell_type": "markdown",
      "source": [
        "# **This project implements a simple Web Scraping example and persists the data in different ways (CSV, JSON, and SQL database) for future work**"
      ],
      "metadata": {
        "id": "d-4eQmlPIDBG"
      }
    },
    {
      "cell_type": "markdown",
      "source": [
        "## **Set up the enviroment and install requirements**"
      ],
      "metadata": {
        "id": "jLnx5p_wGiyY"
      }
    },
    {
      "cell_type": "code",
      "execution_count": null,
      "metadata": {
        "id": "-eXzh6ax0QZK"
      },
      "outputs": [],
      "source": [
        "!python3 -m venv venv\n",
        "!source venv/bin/activate\n",
        "!pip install -r requirements.txt"
      ]
    },
    {
      "cell_type": "markdown",
      "source": [
        "## **Parse the local files** "
      ],
      "metadata": {
        "id": "JaxyooR8HDGR"
      }
    },
    {
      "cell_type": "code",
      "source": [
        "import scrapy \n",
        "import os\n",
        "\n",
        "current_dir = os.path.abspath('')\n",
        "url = os.path.join(current_dir,\"/content/html/1992_World_Junior_Championships_in_Athletics_–_Men's_high_jump\")\n",
        "\n",
        "with open(url) as _f:\n",
        "  url_data = _f.read()\n",
        "\n",
        "response = scrapy.http.TextResponse(url, body=url_data, encoding=\"utf-8\")\n",
        "print(response.url)\n",
        "\n",
        "table = response.xpath('//table')[1].xpath('tbody')"
      ],
      "metadata": {
        "id": "gqqBTDNA-Tvt"
      },
      "execution_count": 5,
      "outputs": []
    },
    {
      "cell_type": "markdown",
      "source": [
        "## **Extract data and persist it in a json file**"
      ],
      "metadata": {
        "id": "xOGHoLxNHmae"
      }
    },
    {
      "cell_type": "code",
      "source": [
        "import json\n",
        "\n",
        "scrapped_data = {}\n",
        "\n",
        "# extract data\n",
        "for tr in table.xpath('tr'):\n",
        "  medal = tr.xpath('td/b/text()').extract()[0]\n",
        "  athlete = tr.xpath('td/a/text()').extract()[0]\n",
        "  scrapped_data[medal] = athlete\n",
        "\n",
        "print(scrapped_data)\n",
        "\n",
        "# save to json file\n",
        "with open('1992_results.json', 'w') as _f:\n",
        "  json.dump(scrapped_data, _f)\n"
      ],
      "metadata": {
        "colab": {
          "base_uri": "https://localhost:8080/"
        },
        "id": "mgBF-H7O_cFL",
        "outputId": "e307d3d1-ea92-43c3-f256-ba61fe0dad7e"
      },
      "execution_count": 9,
      "outputs": [
        {
          "output_type": "stream",
          "name": "stdout",
          "text": [
            "{'Gold': 'Steve Smith', 'Silver': 'Tim Forsyth', 'Bronze': 'Takahiro Kimino'}\n"
          ]
        }
      ]
    },
    {
      "cell_type": "markdown",
      "source": [
        "## **Extract data and persist it in a csv file**"
      ],
      "metadata": {
        "id": "LTWRgV3_Ht9N"
      }
    },
    {
      "cell_type": "code",
      "source": [
        "import csv\n",
        "\n",
        "column_names = ['Medal', 'Athlete']\n",
        "rows = []\n",
        "\n",
        "for tr in table.xpath('tr'):\n",
        "  medal = tr.xpath('td/b/text()').extract()[0]\n",
        "  athlete = tr.xpath('td/a/text()').extract()[0]\n",
        "  rows.append([medal, athlete])\n",
        "\n",
        "with open('1992_results.csv', 'w') as _f:\n",
        "  writer = csv.writer(_f)\n",
        "\n",
        "  # write the column names \n",
        "  writer.writerow(column_names)\n",
        "\n",
        "  # write the rows\n",
        "  writer.writerows(rows)\n",
        "\n"
      ],
      "metadata": {
        "id": "ROmbykEqBZs4"
      },
      "execution_count": 10,
      "outputs": []
    },
    {
      "cell_type": "markdown",
      "source": [
        "## **Extract data and persist it in a SQL database**"
      ],
      "metadata": {
        "id": "gaEEq_wmH1Pp"
      }
    },
    {
      "cell_type": "code",
      "source": [
        "import sqlite3\n",
        "\n",
        "connection = sqlite3.connect('1992_results.db')\n",
        "db_table = 'CREATE TABLE results(id integer primary key, medal TEXT, athlete TEXT)'\n",
        "cursor = connection.cursor()\n",
        "cursor.execute(db_table)\n",
        "connection.commit()\n"
      ],
      "metadata": {
        "id": "iYTG4WMYEpDg"
      },
      "execution_count": 11,
      "outputs": []
    },
    {
      "cell_type": "code",
      "source": [
        "connection = sqlite3.connect('1992_results.db')\n",
        "cursor = connection.cursor()\n",
        "\n",
        "query = 'INSERT INTO results(medal, athlete) VALUES(?, ?)'\n",
        "\n",
        "for tr in table.xpath('tr'):\n",
        "  medal = tr.xpath('td/b/text()').extract()[0]\n",
        "  athlete = tr.xpath('td/a/text()').extract()[0]\n",
        "  cursor.execute(query, (medal, athlete))\n",
        "  connection.commit()"
      ],
      "metadata": {
        "id": "xntDpp6FFnIl"
      },
      "execution_count": 14,
      "outputs": []
    }
  ]
}